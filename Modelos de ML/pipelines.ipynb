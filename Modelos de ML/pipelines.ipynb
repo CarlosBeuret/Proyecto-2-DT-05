{
 "cells": [
  {
   "cell_type": "code",
   "execution_count": null,
   "metadata": {},
   "outputs": [],
   "source": [
    "import pandas as pd\n",
    "import sklearn as sk\n",
    "from sklearn.preprocessing import OrdinalEncoder\n",
    "import numpy as np"
   ]
  },
  {
   "cell_type": "code",
   "execution_count": null,
   "metadata": {},
   "outputs": [],
   "source": [
    "Pipeline(steps = [('imputer', SimpleImputer(strategy = 'most_frequent')),\n",
    "                                       (('odi', (OrdinalEncoder(handle_unknown=\"use_encoded_value\", unknown_value = None))))])"
   ]
  }
 ],
 "metadata": {
  "kernelspec": {
   "display_name": "venv",
   "language": "python",
   "name": "python3"
  },
  "language_info": {
   "name": "python",
   "version": "3.9.4 (tags/v3.9.4:1f2e308, Apr  6 2021, 13:40:21) [MSC v.1928 64 bit (AMD64)]"
  },
  "orig_nbformat": 4,
  "vscode": {
   "interpreter": {
    "hash": "f8c9f1b5f5717be53a280465cd19febe4a51c25cebec07b6f65110175d907ea5"
   }
  }
 },
 "nbformat": 4,
 "nbformat_minor": 2
}
